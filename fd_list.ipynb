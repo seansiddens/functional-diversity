{
 "cells": [
  {
   "cell_type": "markdown",
   "metadata": {},
   "source": [
    "# Site-Species Matrix Computation"
   ]
  },
  {
   "cell_type": "code",
   "execution_count": 8,
   "metadata": {},
   "outputs": [],
   "source": [
    "import geopandas as gpd\n",
    "import rasterio \n",
    "from rasterio.mask import mask\n",
    "import numpy as np\n",
    "import time\n",
    "from tqdm import tqdm\n",
    "from rasterio.plot import show\n",
    "import os\n",
    "import pandas as pd\n",
    "import matplotlib.pyplot as plt"
   ]
  },
  {
   "cell_type": "markdown",
   "metadata": {},
   "source": [
    "1. Import hexagon shapefile."
   ]
  },
  {
   "cell_type": "code",
   "execution_count": 9,
   "metadata": {},
   "outputs": [
    {
     "name": "stdout",
     "output_type": "stream",
     "text": [
      "Loading shapefile...\n",
      "Shapefile loaded in 8.36 seconds\n",
      "Number of hexagons: 186866\n"
     ]
    }
   ],
   "source": [
    "# Path to your shapefile and GeoTIFF\n",
    "shapefile_path = os.path.join('grid', 'Colombia_grid_20k.shp')\n",
    "if not os.path.exists(shapefile_path):\n",
    "    raise FileNotFoundError('Shapefile not found at', shapefile_path)\n",
    "\n",
    "# Load the shapefile\n",
    "print('Loading shapefile...')\n",
    "start_time = time.time()\n",
    "hexagons = gpd.read_file(shapefile_path)\n",
    "print('Shapefile loaded in', round(time.time() - start_time, 2), 'seconds')\n",
    "num_hexagons = len(hexagons)\n",
    "print('Number of hexagons:', num_hexagons)\n",
    "\n"
   ]
  },
  {
   "cell_type": "markdown",
   "metadata": {},
   "source": [
    "2. Load all species rasters."
   ]
  },
  {
   "cell_type": "code",
   "execution_count": 11,
   "metadata": {},
   "outputs": [
    {
     "name": "stdout",
     "output_type": "stream",
     "text": [
      "Number of total species rasters: 1733\n"
     ]
    }
   ],
   "source": [
    "raster_folder = 'bird_maps'\n",
    "if not os.path.exists(raster_folder):\n",
    "    raise FileNotFoundError('Raster folder not found')\n",
    "rasters = [os.path.join(raster_folder, f) for f in os.listdir(raster_folder) if f.endswith('.tif')]\n",
    "\n",
    "print(f\"Number of total species rasters: {len(rasters)}\")\n",
    "# Mapping of species name to it's raster path.\n",
    "species_raster_map = { \"_\".join(os.path.basename(raster_path).split('.')[0].split('_')[:2]): raster_path for raster_path in rasters }"
   ]
  },
  {
   "cell_type": "markdown",
   "metadata": {},
   "source": [
    "3. Load site-species matrix/set file to save to.\n",
    "\n",
    "If this file already exists, the code will only compute species which haven't already been processed. \n",
    "This allows you to generate the data in stages if needed."
   ]
  },
  {
   "cell_type": "code",
   "execution_count": 14,
   "metadata": {},
   "outputs": [
    {
     "name": "stdout",
     "output_type": "stream",
     "text": [
      "Loading site-species matrix...\n",
      "Species already processed(11): ['Ensifera_ensifera', 'Pseudastur_albicollis', 'Hydropsalis_cayennensis', 'Charadrius_semipalmatus', 'Xiphorhynchus_elegans', 'Ortalis_guttata', 'Dendrocincla_merula', 'Brachygalba_goeringi', 'Scytalopus_latebricola', 'Chlorestes_notata', 'Attila_spadiceus']\n",
      "Number of species to process: 1721\n"
     ]
    }
   ],
   "source": [
    "site_species_matrix_fn = 'site_species_matrix.csv'\n",
    "if os.path.exists(site_species_matrix_fn):\n",
    "    print('Loading site-species matrix...')\n",
    "    site_species_matrix = pd.read_csv(site_species_matrix_fn, index_col=\"GRID_ID\")\n",
    "    print(f\"Species already processed ({len(site_species_matrix.columns.tolist())}): {site_species_matrix.columns.tolist()}\")\n",
    "    # Only process species that are not already in the matrix.\n",
    "    species_to_process = [species for species in species_raster_map.keys() if species not in site_species_matrix.columns]\n",
    "else:\n",
    "    print(\"Creating a new site-species matrix.\")\n",
    "    # Create a new site-species matrix\n",
    "    site_species_matrix = pd.DataFrame(index=hexagons[\"GRID_ID\"].tolist())\n",
    "    site_species_matrix.index.name = \"GRID_ID\"\n",
    "    species_to_process = [species for species in species_raster_map.keys()]\n",
    "\n",
    "print(f\"Number of species to process: {len(species_to_process)}\")\n",
    "\n",
    "if len(species_to_process) == 0:\n",
    "    print(\"All species have already been processed.\")"
   ]
  },
  {
   "cell_type": "markdown",
   "metadata": {},
   "source": [
    "For each raster, iterate over each hexagon of the shapefile. Crop the raster to the hexagon's area, and if there are any non-zero values in the cropped region, that hexagon intersects."
   ]
  },
  {
   "cell_type": "code",
   "execution_count": 5,
   "metadata": {},
   "outputs": [],
   "source": [
    "def process_raster(raster_path, species_name, hexagons):\n",
    "    print(\"Processing raster: \", raster_path)\n",
    "    intersection_info = {\n",
    "        \"species\": species_name,\n",
    "        \"intersecting_hexagons\": [] \n",
    "    }\n",
    "\n",
    "    with rasterio.open(raster_path) as src:\n",
    "        # Loop through each hexagon\n",
    "        for _, hexagon in tqdm(hexagons.iterrows(), total=hexagons.shape[0]):\n",
    "            # Use the geometry to mask the raster, crop=True reduces the output to the bounding box of the mask\n",
    "            out_image, _ = rasterio.mask.mask(src, [hexagon['geometry']], crop=True, nodata=0)\n",
    "            \n",
    "            # Check if there's any non-zero value in the masked raster\n",
    "            if np.any(out_image > 0):  # Change condition based on your specific criteria\n",
    "                intersection_info[\"intersecting_hexagons\"].append(hexagon[\"GRID_ID\"])\n",
    "    return intersection_info\n",
    "\n",
    "def update_site_species_matrix(site_species_matrix, intersection_info):\n",
    "    species = intersection_info[\"species\"]\n",
    "    # Check if the species column exists; if not, initialize it with zeros\n",
    "    if species not in site_species_matrix.columns:\n",
    "        site_species_matrix[species] = 0\n",
    "\n",
    "    for hexagon_id in intersection_info[\"intersecting_hexagons\"]:\n",
    "        site_species_matrix.at[hexagon_id, species] = 1"
   ]
  },
  {
   "cell_type": "markdown",
   "metadata": {},
   "source": [
    "4. Process all species.\n",
    "\n",
    "We iterate over every species raster that hasn't already been processed. \n",
    "Inside the loop we periodically save the data that has been compututed so far.\n",
    "You can safely interrupt the cell at any point and restart the notebook later, picking up from where you left off.\n",
    "\n",
    "***NOTE***: Make sure you re-run step 3 if you are re-running the cell below after already having done some processing. The `species_to_process` list needs to be updated after you do any computation. To be safe you can just re-run all of the cells."
   ]
  },
  {
   "cell_type": "code",
   "execution_count": 6,
   "metadata": {},
   "outputs": [],
   "source": [
    "# How often to save progress (i.e for every x rasters processed, save progress to disk)\n",
    "checkpoint_size = 5"
   ]
  },
  {
   "cell_type": "code",
   "execution_count": 7,
   "metadata": {},
   "outputs": [
    {
     "name": "stdout",
     "output_type": "stream",
     "text": [
      "Processing raster:  bird_maps/Xiphorhynchus_susurrans_sp_range.tif\n"
     ]
    },
    {
     "name": "stderr",
     "output_type": "stream",
     "text": [
      "  0%|          | 0/186866 [00:00<?, ?it/s]\n"
     ]
    },
    {
     "ename": "AttributeError",
     "evalue": "module 'rasterio' has no attribute 'mask'",
     "output_type": "error",
     "traceback": [
      "\u001b[0;31m---------------------------------------------------------------------------\u001b[0m",
      "\u001b[0;31mAttributeError\u001b[0m                            Traceback (most recent call last)",
      "Cell \u001b[0;32mIn[7], line 3\u001b[0m\n\u001b[1;32m      1\u001b[0m processing_start \u001b[38;5;241m=\u001b[39m time\u001b[38;5;241m.\u001b[39mtime() \n\u001b[1;32m      2\u001b[0m \u001b[38;5;28;01mfor\u001b[39;00m i, species \u001b[38;5;129;01min\u001b[39;00m \u001b[38;5;28menumerate\u001b[39m(species_to_process):\n\u001b[0;32m----> 3\u001b[0m     intersection_info \u001b[38;5;241m=\u001b[39m \u001b[43mprocess_raster\u001b[49m\u001b[43m(\u001b[49m\u001b[43mspecies_raster_map\u001b[49m\u001b[43m[\u001b[49m\u001b[43mspecies\u001b[49m\u001b[43m]\u001b[49m\u001b[43m,\u001b[49m\u001b[43m \u001b[49m\u001b[43mspecies\u001b[49m\u001b[43m,\u001b[49m\u001b[43m \u001b[49m\u001b[43mhexagons\u001b[49m\u001b[43m)\u001b[49m\n\u001b[1;32m      4\u001b[0m     update_site_species_matrix(site_species_matrix, intersection_info)\n\u001b[1;32m      6\u001b[0m     \u001b[38;5;28;01mif\u001b[39;00m i \u001b[38;5;241m%\u001b[39m checkpoint_size \u001b[38;5;241m==\u001b[39m \u001b[38;5;241m0\u001b[39m \u001b[38;5;129;01mand\u001b[39;00m i \u001b[38;5;241m>\u001b[39m \u001b[38;5;241m0\u001b[39m:\n\u001b[1;32m      7\u001b[0m         \u001b[38;5;66;03m# Periodically save work done so far. You can safely interrupt the script and resume later.\u001b[39;00m\n",
      "Cell \u001b[0;32mIn[5], line 12\u001b[0m, in \u001b[0;36mprocess_raster\u001b[0;34m(raster_path, species_name, hexagons)\u001b[0m\n\u001b[1;32m      8\u001b[0m \u001b[38;5;28;01mwith\u001b[39;00m rasterio\u001b[38;5;241m.\u001b[39mopen(raster_path) \u001b[38;5;28;01mas\u001b[39;00m src:\n\u001b[1;32m      9\u001b[0m     \u001b[38;5;66;03m# Loop through each hexagon\u001b[39;00m\n\u001b[1;32m     10\u001b[0m     \u001b[38;5;28;01mfor\u001b[39;00m _, hexagon \u001b[38;5;129;01min\u001b[39;00m tqdm(hexagons\u001b[38;5;241m.\u001b[39miterrows(), total\u001b[38;5;241m=\u001b[39mhexagons\u001b[38;5;241m.\u001b[39mshape[\u001b[38;5;241m0\u001b[39m]):\n\u001b[1;32m     11\u001b[0m         \u001b[38;5;66;03m# Use the geometry to mask the raster, crop=True reduces the output to the bounding box of the mask\u001b[39;00m\n\u001b[0;32m---> 12\u001b[0m         out_image, _ \u001b[38;5;241m=\u001b[39m \u001b[43mrasterio\u001b[49m\u001b[38;5;241;43m.\u001b[39;49m\u001b[43mmask\u001b[49m\u001b[38;5;241m.\u001b[39mmask(src, [hexagon[\u001b[38;5;124m'\u001b[39m\u001b[38;5;124mgeometry\u001b[39m\u001b[38;5;124m'\u001b[39m]], crop\u001b[38;5;241m=\u001b[39m\u001b[38;5;28;01mTrue\u001b[39;00m, nodata\u001b[38;5;241m=\u001b[39m\u001b[38;5;241m0\u001b[39m)\n\u001b[1;32m     14\u001b[0m         \u001b[38;5;66;03m# Check if there's any non-zero value in the masked raster\u001b[39;00m\n\u001b[1;32m     15\u001b[0m         \u001b[38;5;28;01mif\u001b[39;00m np\u001b[38;5;241m.\u001b[39many(out_image \u001b[38;5;241m>\u001b[39m \u001b[38;5;241m0\u001b[39m):  \u001b[38;5;66;03m# Change condition based on your specific criteria\u001b[39;00m\n",
      "\u001b[0;31mAttributeError\u001b[0m: module 'rasterio' has no attribute 'mask'"
     ]
    }
   ],
   "source": [
    "processing_start = time.time() \n",
    "for i, species in enumerate(species_to_process):\n",
    "    intersection_info = process_raster(species_raster_map[species], species, hexagons)\n",
    "    update_site_species_matrix(site_species_matrix, intersection_info)\n",
    "\n",
    "    if i % checkpoint_size == 0 and i > 0:\n",
    "        # Periodically save work done so far. You can safely interrupt the script and resume later.\n",
    "        print(f\"Processed {i} species out of {len(species_to_process)} ({i/len(species_to_process)*100:.2f})%\")\n",
    "        print(f\"Avg. time per raster: {(time.time() - processing_start) / i:.2f} seconds\")\n",
    "        print(f\"Saving data to {site_species_matrix_fn}...\")\n",
    "        site_species_matrix.to_csv(site_species_matrix_fn)\n",
    "\n",
    "processing_total = time.time() - processing_start\n",
    "site_species_matrix.to_csv(site_species_matrix_fn)\n",
    "print(\"Finished processing all species.\")\n",
    "print(f\"Site-species matrix saved to {site_species_matrix_fn}\")\n",
    "print(f\"Processing time: {processing_total} seconds\")\n",
    "print(f\"Avg. time per raster: {processing_total / len(species_to_process)} seconds\")"
   ]
  },
  {
   "cell_type": "markdown",
   "metadata": {},
   "source": [
    "## Validation\n",
    "\n",
    "As a simple validation, for a given species column in the matrix, we can save every hexagon that is marked as overlapping to a shapefile. \n",
    "We can then display the species' raster and the shapefile side by side to validate that the data is correct or you can open the shapefile and rasters in QGIS."
   ]
  },
  {
   "cell_type": "code",
   "execution_count": null,
   "metadata": {},
   "outputs": [],
   "source": [
    "def save_overlapping_hexagons(matrix_csv_path, shapefile_path, column_name):\n",
    "    \"\"\"\n",
    "    Saves hexagons that overlap with a species (indicated by a \"1\" in the specified column) to a shapefile.\n",
    "\n",
    "    Parameters:\n",
    "    - matrix_csv_path: Path to the CSV file containing the site-species matrix.\n",
    "    - shapefile_path: Path to the original shapefile containing all hexagons.\n",
    "    - output_shapefile_path: Path where the new shapefile for the overlapping hexagons will be saved.\n",
    "    - column_name: The species name (column in the CSV).\n",
    "    \"\"\"\n",
    "    # Load the site-species matrix CSV\n",
    "    matrix_df = pd.read_csv(matrix_csv_path)  \n",
    "    matrix_df['GRID_ID'] = matrix_df['GRID_ID'].astype(str)\n",
    "    \n",
    "    # Filter rows where the specified column has a value of 1\n",
    "    overlapping_ids = matrix_df[matrix_df[column_name] == 1]['GRID_ID'].tolist()\n",
    "    \n",
    "    # Check if any hexagons overlap with the species\n",
    "    if not overlapping_ids:\n",
    "        print(f\"No hexagons overlap with {column_name}.\")\n",
    "        return\n",
    "\n",
    "    # Load the original shapefile containing all hexagons\n",
    "    hexagons = gpd.read_file(shapefile_path)\n",
    "    hexagons['GRID_ID'] = hexagons['GRID_ID'].astype(str)\n",
    "   \n",
    "    # Filter the hexagons based on the overlapping IDs\n",
    "    overlapping_hexagons = hexagons[hexagons['GRID_ID'].isin(overlapping_ids)]\n",
    "    \n",
    "    # Check if any hexagons were found\n",
    "    if overlapping_hexagons.empty:\n",
    "        print(\"No overlapping hexagons were found in the shapefile.\")\n",
    "        return None\n",
    "    \n",
    "    print(\"All overlapping hexagons have been saved to shapefile.\")\n",
    "    return overlapping_hexagons"
   ]
  },
  {
   "cell_type": "code",
   "execution_count": null,
   "metadata": {},
   "outputs": [],
   "source": [
    "# Set this to a column name in the site_species_matrix to validate.\n",
    "species_to_validate = 'Ensifera_ensifera'\n",
    "output_fn = os.path.join('output', f'{species_to_validate}_overlapping_hexagons.shp')\n",
    "overlapping_hexagons = save_overlapping_hexagons(site_species_matrix_fn, shapefile_path, species_to_validate)\n",
    "\n",
    "# Save the overlapping hexagons to a new shapefile\n",
    "overlapping_hexagons.to_file(output_fn)\n",
    "\n",
    "# Plot the overlapping hexagons in a separate figure\n",
    "ax1 = plt.subplot()\n",
    "overlapping_hexagons.plot(ax=ax1)\n",
    "ax1.set_title(\"Overlapping Hexagons\")\n",
    "\n",
    "# Show the plot for the overlapping hexagons\n",
    "plt.show()\n",
    "\n",
    "# Plot the GeoTIFF in a separate figure\n",
    "ax2 = plt.subplot()\n",
    "with rasterio.open(species_raster_map[species_to_validate]) as src:\n",
    "    show(src, ax=ax2)\n",
    "    ax2.set_title(\"GeoTIFF\")\n",
    "\n",
    "# Show the plot for the GeoTIFF\n",
    "plt.show()"
   ]
  }
 ],
 "metadata": {
  "kernelspec": {
   "display_name": ".venv",
   "language": "python",
   "name": "python3"
  },
  "language_info": {
   "codemirror_mode": {
    "name": "ipython",
    "version": 3
   },
   "file_extension": ".py",
   "mimetype": "text/x-python",
   "name": "python",
   "nbconvert_exporter": "python",
   "pygments_lexer": "ipython3",
   "version": "3.12.1"
  }
 },
 "nbformat": 4,
 "nbformat_minor": 2
}
